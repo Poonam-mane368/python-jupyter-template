{
 "cells": [
  {
   "cell_type": "markdown",
   "metadata": {},
   "source": [
    "### Exercise 1: Line Plot Customization"
   ]
  },
  {
   "cell_type": "code",
   "execution_count": null,
   "metadata": {},
   "outputs": [],
   "source": [
    "# TASK: Create a line plot with x values ranging from 0 to 10 and y values as the square of x.\n",
    "# Customize the plot by adding a title, labels for both axes, and a grid.\n",
    "\n",
    "import matplotlib.pyplot as plt\n",
    "import numpy as np\n",
    "x=np.linespace(0,10,100)\n",
    "y=x**2\n",
    "plt.figure(figsize=(8,6))\n",
    "plt.plot(x,y,label='y=x^2',color='blue')\n",
    "\n",
    "plt.title('Line Plot of y=x^2')\n",
    "plt.xlabel('X values')\n",
    "plt.ylabel('Y values(X squared)')\n",
    "plt.grid(True)\n",
    "plt.legend()\n",
    "\n",
    "plt.show"
   ]
  }
 ],
 "metadata": {
  "language_info": {
   "name": "python"
  }
 },
 "nbformat": 4,
 "nbformat_minor": 2
}
